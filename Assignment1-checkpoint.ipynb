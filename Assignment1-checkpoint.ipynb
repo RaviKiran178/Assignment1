{
 "cells": [
  {
   "cell_type": "code",
   "execution_count": 16,
   "id": "df7e799d",
   "metadata": {
    "scrolled": true
   },
   "outputs": [
    {
     "name": "stdout",
     "output_type": "stream",
     "text": [
      "Length Of the String is :  23 \n",
      " ['Hey', 'i', 'am', 'from', 'New', 'Delhi']\n"
     ]
    }
   ],
   "source": [
    "#Q1.From this given string: s = \"Hey i am from New Delhi\".\n",
    "#Find out: length of string, convert this to list using split operation.\n",
    "\n",
    "s= \"Hey i am from New Delhi\"\n",
    "print(\"Length Of the String is : \",len(s),\"\\n\",s.split())"
   ]
  },
  {
   "cell_type": "code",
   "execution_count": 13,
   "id": "904801b2",
   "metadata": {},
   "outputs": [
    {
     "name": "stdout",
     "output_type": "stream",
     "text": [
      "Name is rahul\n",
      "Rame Is Rahul\n",
      "NAME IS RAHUL\n"
     ]
    }
   ],
   "source": [
    "#Q2.Given string s = \"name is rahul\". Write code to give following o/p.\n",
    "#- \"Name is rahul\"\n",
    "#-  \"Rame Is Rahul\"\n",
    "#-  \"NAME IS RAHUL\"\n",
    "\n",
    "s=\"name is rahul\"\n",
    "print(s.capitalize())\n",
    "x=s.replace(\"n\", \"R\")\n",
    "print(x.title())\n",
    "print(s.upper())"
   ]
  },
  {
   "cell_type": "code",
   "execution_count": 3,
   "id": "5b496967",
   "metadata": {},
   "outputs": [
    {
     "name": "stdout",
     "output_type": "stream",
     "text": [
      "Enter The Length Of Rectangle  : 2\n",
      "Enter The Breadth Of Rectangle : 4\n",
      "Area of Rectangle : 8\n",
      "Perimeter of Rectangle : 12\n"
     ]
    }
   ],
   "source": [
    "#Q3. Using length and breadth as input\n",
    "#find out area and perimeter of a given rectangle\n",
    "l=int(input(\"Enter The Length Of Rectangle  : \"))\n",
    "b=int(input(\"Enter The Breadth Of Rectangle : \"))\n",
    "print(\"Area of Rectangle :\", l*b)\n",
    "print(\"Perimeter of Rectangle :\",2*(l+b)) "
   ]
  },
  {
   "cell_type": "code",
   "execution_count": 4,
   "id": "bc96f4c0",
   "metadata": {},
   "outputs": [
    {
     "name": "stdout",
     "output_type": "stream",
     "text": [
      "Enter the Diameter of circle : 6\n",
      "Circumference of Circle :  18.849\n"
     ]
    }
   ],
   "source": [
    "#Q4. Using diameter as input find out circumference and area of a circle.\n",
    "D=int(input(\"Enter the Diameter of circle : \"))\n",
    "r=D//2\n",
    "print(\"Circumference of Circle : \",2*3.1415*r)"
   ]
  },
  {
   "cell_type": "code",
   "execution_count": 5,
   "id": "bd49b5f3",
   "metadata": {},
   "outputs": [
    {
     "name": "stdout",
     "output_type": "stream",
     "text": [
      "Let Quadritic Equation be : ax^2+bx+c\n",
      "Enter the Cofficient of x^2 or a      : 2\n",
      "Enter the Cofficient of x or b        : 3\n",
      "Enter the Cofficient of constant or c : -5\n",
      "roots of this quadritic equation : 1.0 -2.5\n"
     ]
    }
   ],
   "source": [
    "#Q5. Write a program to compute roots of a quadratic equation\n",
    "#when coefficients a, b and c are known(entered by user).\n",
    "\n",
    "print(\"Let Quadritic Equation be : ax^2+bx+c\")\n",
    "a=int(input(\"Enter the Cofficient of x^2 or a      : \"))\n",
    "b=int(input(\"Enter the Cofficient of x or b        : \"))\n",
    "c=int(input(\"Enter the Cofficient of constant or c : \"))  #r1=(-b +(b**2-4*a*c)**0.5)   #r2=(-b -(b**2-4*a*c)**0.5) \n",
    "print(\"roots of this quadritic equation :\",(-b +(b**2-4*a*c)**0.5)/(2*a),(-b -(b**2-4*a*c)**0.5)/(2*a))"
   ]
  },
  {
   "cell_type": "code",
   "execution_count": 6,
   "id": "0f8af9d2",
   "metadata": {},
   "outputs": [
    {
     "name": "stdout",
     "output_type": "stream",
     "text": [
      "Enter The Radius Of Sphere : 5\n",
      "Volume of the Sphere :  523.5833333333333\n"
     ]
    }
   ],
   "source": [
    "#Q6. Find volume of a sphere using radius as input.\n",
    "r=int(input(\"Enter The Radius Of Sphere : \"))\n",
    "print(\"Volume of the Sphere : \", (4/3)*(3.1415)*(r**3))"
   ]
  },
  {
   "cell_type": "code",
   "execution_count": 7,
   "id": "4e2f09da",
   "metadata": {},
   "outputs": [
    {
     "name": "stdout",
     "output_type": "stream",
     "text": [
      "Enter the desired number : 123456789\n",
      "Number of Digits :  9\n"
     ]
    }
   ],
   "source": [
    "#Q7. Count the  number of digits in a number. Example: 3454 has 4 digits.\n",
    "num=int(input(\"Enter the desired number : \"))\n",
    "print(\"Number of Digits : \",len(str(num)))"
   ]
  },
  {
   "cell_type": "code",
   "execution_count": 8,
   "id": "93de548b",
   "metadata": {},
   "outputs": [
    {
     "name": "stdout",
     "output_type": "stream",
     "text": [
      "Enter Something : Hello Everyone Have a nice day\n",
      "HELLO EVERYONE HAVE A NICE DAY\n"
     ]
    }
   ],
   "source": [
    "#Q8. Write a program that accepts a string and gives output\n",
    "#string with all capital letters.\n",
    "string=input(\"Enter Something : \")\n",
    "print(string.upper())"
   ]
  },
  {
   "cell_type": "code",
   "execution_count": 17,
   "id": "2212fb10",
   "metadata": {},
   "outputs": [
    {
     "name": "stdout",
     "output_type": "stream",
     "text": [
      "Type something : Ravi Kiran\n",
      "Enter the index of character you want to change :4\n",
      "Enter your character to replace :-\n",
      "R a v i - K i r a n\n"
     ]
    }
   ],
   "source": [
    "#Q9. Write a program to that accepts a string s, an index number n\n",
    "#and a character ‘c’. And outputs the string replaced with the character\n",
    "#at the index number n. Example- ‘hello’ , 0 , ‘j’ ==> ‘jello’.\n",
    "#Hint2: You can try it by join function too by typecasting it to list)\n",
    "string=input(\"Type something : \")\n",
    "s=list(string)\n",
    "i=int(input(\"Enter the index of character you want to change :\"))\n",
    "c=input(\"Enter your character to replace :\")\n",
    "s[i]=c\n",
    "print(\" \".join(s))"
   ]
  },
  {
   "cell_type": "code",
   "execution_count": 18,
   "id": "3c4f9d3e",
   "metadata": {},
   "outputs": [
    {
     "name": "stdout",
     "output_type": "stream",
     "text": [
      "Enter Something : Hai Everyone\n",
      "enoyrevE iaH\n"
     ]
    }
   ],
   "source": [
    "#Q10. Reverse a string. Example: 'Hey there' = 'ereht yeH'\n",
    "string=input(\"Enter Something : \")\n",
    "print(string[::-1])"
   ]
  },
  {
   "cell_type": "code",
   "execution_count": null,
   "id": "50832bdc",
   "metadata": {},
   "outputs": [],
   "source": []
  }
 ],
 "metadata": {
  "kernelspec": {
   "display_name": "Python 3",
   "language": "python",
   "name": "python3"
  },
  "language_info": {
   "codemirror_mode": {
    "name": "ipython",
    "version": 3
   },
   "file_extension": ".py",
   "mimetype": "text/x-python",
   "name": "python",
   "nbconvert_exporter": "python",
   "pygments_lexer": "ipython3",
   "version": "3.8.6"
  }
 },
 "nbformat": 4,
 "nbformat_minor": 5
}
