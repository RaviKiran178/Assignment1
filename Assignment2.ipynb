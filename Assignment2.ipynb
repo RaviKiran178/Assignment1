{
 "cells": [
  {
   "cell_type": "markdown",
   "id": "b19fb2c1",
   "metadata": {},
   "source": [
    "### Q1. Write a program to print all the natural numbers from 1 to n (user input). Then print the same in reverse order.\n"
   ]
  },
  {
   "cell_type": "code",
   "execution_count": 231,
   "id": "5275ea34",
   "metadata": {},
   "outputs": [
    {
     "name": "stdout",
     "output_type": "stream",
     "text": [
      "Enter the N value : 20\n",
      "List of Natural Numbers from 1 to 20 in Order: [1, 2, 3, 4, 5, 6, 7, 8, 9, 10, 11, 12, 13, 14, 15, 16, 17, 18, 19, 20]\n",
      "List of Natural Numbers from 20 to 1 in Reverse-Order: [20, 19, 18, 17, 16, 15, 14, 13, 12, 11, 10, 9, 8, 7, 6, 5, 4, 3, 2, 1]\n"
     ]
    }
   ],
   "source": [
    "N = int(input(\"Enter the N value : \"))\n",
    "a, b = [],[]\n",
    "for i in range(1,N+1):\n",
    "    a.append(i)\n",
    "print((\"List of Natural Numbers from 1 to {0} in Order:\".format(N)),a)\n",
    "for i in range(N,0, -1):\n",
    "    b.append(i)\n",
    "print(\"List of Natural Numbers from {0} to 1 in Reverse-Order:\".format(N),b)"
   ]
  },
  {
   "cell_type": "markdown",
   "id": "7019ef4a",
   "metadata": {},
   "source": [
    "### Q2. Print all odd numbers and even numbers between 1 to 100. "
   ]
  },
  {
   "cell_type": "code",
   "execution_count": 232,
   "id": "1d455457",
   "metadata": {},
   "outputs": [
    {
     "name": "stdout",
     "output_type": "stream",
     "text": [
      "List of Even Numbers from 1 to 100 in order: \n",
      "2 4 6 8 10 12 14 16 18 20 22 24 26 28 30 32 34 36 38 40 42 44 46 48 50 52 54 56 58 60 62 64 66 68 70 72 74 76 78 80 82 84 86 88 90 92 94 96 98 100 \n",
      "List of odd Numbers from 1 to 100 in order: \n",
      "1 3 5 7 9 11 13 15 17 19 21 23 25 27 29 31 33 35 37 39 41 43 45 47 49 51 53 55 57 59 61 63 65 67 69 71 73 75 77 79 81 83 85 87 89 91 93 95 97 99 "
     ]
    }
   ],
   "source": [
    "n=100   # if you want to take input from user use this statement \" n = int(input(\"Enter the Number: \"))\"\n",
    "print(\"List of Even Numbers from 1 to {0} in order: \".format(n))\n",
    "for i in range(1, n+1):\n",
    "    if i % 2 == 0:\n",
    "        print(i, end = \" \")\n",
    "print()\n",
    "print(\"List of odd Numbers from 1 to {0} in order: \".format(n))\n",
    "for j in range(1, n+1):\n",
    "    if j % 2 != 0:\n",
    "        print(j, end = \" \")"
   ]
  },
  {
   "cell_type": "markdown",
   "id": "03052408",
   "metadata": {},
   "source": [
    "### Q3. Write a program to check if a number is prime or not. Example: 7 ==> True, 6 ==> False "
   ]
  },
  {
   "cell_type": "code",
   "execution_count": 233,
   "id": "8e191ee5",
   "metadata": {},
   "outputs": [
    {
     "name": "stdout",
     "output_type": "stream",
     "text": [
      "Enter a number to check Prime or Not : 6\n",
      "False. 6 is not a prime number.\n"
     ]
    }
   ],
   "source": [
    "num = int(input(\"Enter a number to check Prime or Not : \"))  \n",
    "\n",
    "if num > 1:\n",
    "    for i in range(1,num):  \n",
    "        if (num % i) == 0:  \n",
    "            print(\"False.\",num,\"is not a prime number.\")   \n",
    "            break\n",
    "    else:\n",
    "        print(\"True.\",num,\"is a prime number.\")\n",
    "else:\n",
    "    print(\"False.\",num,\"is not a prime number.\")"
   ]
  },
  {
   "cell_type": "code",
   "execution_count": 234,
   "id": "6a4931b3",
   "metadata": {},
   "outputs": [
    {
     "name": "stdout",
     "output_type": "stream",
     "text": [
      "Enter a number to check Prime or Not : 7\n",
      "True. 7 is a prime number.\n"
     ]
    }
   ],
   "source": [
    "num = int(input(\"Enter a number to check Prime or Not : \"))  \n",
    "\n",
    "if num > 1:\n",
    "    for i in range(2,num):  \n",
    "        if (num % i) == 0:  \n",
    "            print(\"False.\",num,\"is not a prime number.\")   \n",
    "            break\n",
    "    else:\n",
    "        print(\"True.\",num,\"is a prime number.\")\n",
    "else:\n",
    "    print(\"False.\",num,\"is  a prime number.\")"
   ]
  },
  {
   "cell_type": "markdown",
   "id": "922d3249",
   "metadata": {},
   "source": [
    "### Q4. Write a program that asks the user for a number n and prints the sum of the numbers 1 to n such that only multiples of three or five are considered in the sum, e.g. 3, 5, 6, 9, 10, 12, 15 for n=17."
   ]
  },
  {
   "cell_type": "code",
   "execution_count": 235,
   "id": "e7f936b9",
   "metadata": {},
   "outputs": [
    {
     "name": "stdout",
     "output_type": "stream",
     "text": [
      "Enter a number : 17\n",
      "Multiples of three or five from 1 to 17 :  [3, 5, 6, 9, 10, 12, 15]\n",
      "Sum of the Multiples from  1 to 17 :  60\n"
     ]
    }
   ],
   "source": [
    "N = int(input(\"Enter a number : \"))\n",
    "\n",
    "b =[]\n",
    "Sum = 0\n",
    "for i in range(1,N+1):\n",
    "    if i % 3 == 0 or i % 5 == 0:\n",
    "        b.append(i)\n",
    "        Sum += i\n",
    "print(\"Multiples of three or five from 1 to {0} : \".format(N),b)\n",
    "print(\"Sum of the Multiples from  1 to {0} : \".format(N),Sum)\n",
    "\n"
   ]
  },
  {
   "cell_type": "markdown",
   "id": "07b57ea7",
   "metadata": {},
   "source": [
    "### Q5. Write a program that asks the user for a number n and gives them the possibility to choose between computing the sum and computing the product of 1,…,n."
   ]
  },
  {
   "cell_type": "code",
   "execution_count": 8,
   "id": "31c7cb5f",
   "metadata": {},
   "outputs": [
    {
     "name": "stdout",
     "output_type": "stream",
     "text": [
      "Enter a Desired Number: 7\n",
      "\n",
      "1.Sum    2.Product\n",
      "Choose the Option From above: 1\n",
      "\n",
      "1 2 3 4 5 6 7 \n",
      "Sum till the number 7 is :  28\n"
     ]
    }
   ],
   "source": [
    "num = int(input(\"Enter a Desired Number: \"))\n",
    "print(\"\\n1.Sum    2.Product\")\n",
    "opt = int(input(\"Choose the Option From above: \"))\n",
    "print()\n",
    "a, b = [], []\n",
    "product = 1\n",
    "Sum = 0\n",
    "if opt ==1:\n",
    "    for N in range(1,num+1):\n",
    "        Sum = Sum + N \n",
    "        a.append(Sum)\n",
    "        print(N,end = \" \")\n",
    "    print(\"\\nSum till the number {0} is : \".format(num),a[-1])\n",
    "elif opt == 2:\n",
    "    for N in range(1,num+1):\n",
    "        product = product * N \n",
    "        b.append(product)\n",
    "        print(N,end = \" \")\n",
    "    print(\"\\nProduct till the number {0} is : \".format(num),b[-1])\n",
    "else:\n",
    "    print(\"Error Occured...\")"
   ]
  },
  {
   "cell_type": "code",
   "execution_count": 236,
   "id": "5a685ab3",
   "metadata": {},
   "outputs": [
    {
     "name": "stdout",
     "output_type": "stream",
     "text": [
      "Enter a Desired Number: 7\n",
      "\n",
      "1.Sum    2.Product\n",
      "Choose the Option From above: 2\n",
      "\n",
      "1 2 3 4 5 6 7 \n",
      "Product till the number 7 is :  5040\n"
     ]
    }
   ],
   "source": [
    "num = int(input(\"Enter a Desired Number: \"))\n",
    "print(\"\\n1.Sum    2.Product\")\n",
    "opt = int(input(\"Choose the Option From above: \"))\n",
    "print()\n",
    "a, b = [], []\n",
    "product = 1\n",
    "Sum = 0\n",
    "if opt ==1:\n",
    "    for N in range(1,num+1):\n",
    "        Sum = Sum + N \n",
    "        a.append(Sum)\n",
    "        print(N,end = \" \")\n",
    "    print(\"\\nSum till the number {0} is : \".format(num),a[-1])\n",
    "elif opt == 2:\n",
    "    for N in range(1,num+1):\n",
    "        product = product * N \n",
    "        b.append(product)\n",
    "        print(N,end = \" \")\n",
    "    print(\"\\nProduct till the number {0} is : \".format(num),b[-1])\n",
    "else:\n",
    "    print(\"Error Occured...\")"
   ]
  },
  {
   "cell_type": "markdown",
   "id": "79a8fbaa",
   "metadata": {},
   "source": [
    "### Q6. Find the sum of all the multiples of 3 or 5 below 1000."
   ]
  },
  {
   "cell_type": "code",
   "execution_count": 237,
   "id": "9e902704",
   "metadata": {},
   "outputs": [
    {
     "name": "stdout",
     "output_type": "stream",
     "text": [
      "Sum of all the multiples of 3 or 5 from  1 to 1000 :  234168\n"
     ]
    }
   ],
   "source": [
    "n=1000\n",
    "a = 0\n",
    "for i in range(1,n+1):\n",
    "    if (i % 3 == 0) or (i % 5 == 0):\n",
    "        a += i\n",
    "print(\"Sum of all the multiples of 3 or 5 from  1 to {0} : \".format(n),a)\n",
    "\n",
    "        "
   ]
  },
  {
   "cell_type": "markdown",
   "id": "05f79f17",
   "metadata": {},
   "source": [
    "### Q7. Write a program which will find all such numbers which are divisible by 7 but are not a multiple of 5, between 2000 and 3200 (both included)."
   ]
  },
  {
   "cell_type": "code",
   "execution_count": 157,
   "id": "157a4c37",
   "metadata": {},
   "outputs": [
    {
     "name": "stdout",
     "output_type": "stream",
     "text": [
      "Sum of all the multiples of 7 but not 5 from 1 to range(2000, 3200):\n",
      "\n",
      "2002 2009 2016 2023 2037 2044 2051 2058 2072 2079 2086 2093 2107 2114 2121 2128 2142 2149 2156 2163 2177 2184 2191 2198 2212 2219 2226 2233 2247 2254 2261 2268 2282 2289 2296 2303 2317 2324 2331 2338 2352 2359 2366 2373 2387 2394 2401 2408 2422 2429 2436 2443 2457 2464 2471 2478 2492 2499 2506 2513 2527 2534 2541 2548 2562 2569 2576 2583 2597 2604 2611 2618 2632 2639 2646 2653 2667 2674 2681 2688 2702 2709 2716 2723 2737 2744 2751 2758 2772 2779 2786 2793 2807 2814 2821 2828 2842 2849 2856 2863 2877 2884 2891 2898 2912 2919 2926 2933 2947 2954 2961 2968 2982 2989 2996 3003 3017 3024 3031 3038 3052 3059 3066 3073 3087 3094 3101 3108 3122 3129 3136 3143 3157 3164 3171 3178 3192 3199 "
     ]
    }
   ],
   "source": [
    "a = range(2000,3200)\n",
    "print(\"Sum of all the multiples of 7 but not 5 from 1 to {0}:\".format(a))\n",
    "print()\n",
    "for i in a:\n",
    "    if i % 7 == 0 and i % 5 !=0:\n",
    "        print(i, end = \" \")"
   ]
  },
  {
   "cell_type": "markdown",
   "id": "0a3feb54",
   "metadata": {},
   "source": [
    "### Q8. Find the difference between the sum of the squares of the first one hundred natural numbers and the square of the sum."
   ]
  },
  {
   "cell_type": "code",
   "execution_count": 238,
   "id": "454c703a",
   "metadata": {},
   "outputs": [
    {
     "name": "stdout",
     "output_type": "stream",
     "text": [
      "Difference :  25164150\n"
     ]
    }
   ],
   "source": [
    "a =100\n",
    "add = 0\n",
    "sumsqr=0\n",
    "for i in range(1,a+1):\n",
    "    sumsqr += i**2\n",
    "    add += i\n",
    "s =(add**2)\n",
    "print(\"Difference : \",s-sumsqr)"
   ]
  },
  {
   "cell_type": "markdown",
   "id": "d124ed21",
   "metadata": {},
   "source": [
    "### Q9. Write a program which can compute the factorial of a given number."
   ]
  },
  {
   "cell_type": "code",
   "execution_count": 201,
   "id": "28284a6f",
   "metadata": {},
   "outputs": [
    {
     "name": "stdout",
     "output_type": "stream",
     "text": [
      "Enter the Number : 6\n",
      "Factorial of the given number (6!): 720\n"
     ]
    }
   ],
   "source": [
    "fact = int(input(\"Enter the Number : \"))\n",
    "product = 1\n",
    "b = []\n",
    "\n",
    "if(fact>0):\n",
    "    for N in range(1,fact+1):\n",
    "        product = product * N \n",
    "        b.append(product)\n",
    "    print(\"Factorial of the given number ({0}!):\".format(fact),b[-1])\n",
    "elif(fact == 0):\n",
    "    b.append(1)\n",
    "    print(\"Factorial of the given number ({0}!):\".format(fact),b[-1])\n",
    "else:\n",
    "    print(\"Factorial of the given number ({0}!):\".format(fact),\"does Not exist..\")"
   ]
  },
  {
   "cell_type": "markdown",
   "id": "a2d21db3",
   "metadata": {},
   "source": [
    "### Q10. Pattern:\n",
    "\n",
    "\n",
    "  1\n",
    "\n",
    "  2 2\n",
    "\n",
    "  3 3 3\n",
    "\n",
    "  4 4 4 4\n",
    "\n",
    "  5 5 5 5 5"
   ]
  },
  {
   "cell_type": "code",
   "execution_count": 239,
   "id": "71c1d3ca",
   "metadata": {},
   "outputs": [
    {
     "name": "stdout",
     "output_type": "stream",
     "text": [
      "1 \n",
      "2 2 \n",
      "3 3 3 \n",
      "4 4 4 4 \n",
      "5 5 5 5 5 \n"
     ]
    }
   ],
   "source": [
    "n =5\n",
    "for i in range(1,n+1):\n",
    "    for j in range(1, i+1):\n",
    "        print(i,end = \" \")\n",
    "    print()"
   ]
  },
  {
   "cell_type": "markdown",
   "id": "098d1b89",
   "metadata": {},
   "source": [
    "### \n",
    "```\n",
    "5 5 5 5 5\n",
    "5 4 4 4 5 \n",
    "5 4 3 4 5 \n",
    "5 4 4 4 5 \n",
    "5 5 5 5 5\n",
    "```"
   ]
  },
  {
   "cell_type": "code",
   "execution_count": 241,
   "id": "899fb714",
   "metadata": {},
   "outputs": [
    {
     "name": "stdout",
     "output_type": "stream",
     "text": [
      "Enter a number:5\n",
      "5 5 5 5 5 \n",
      "5 4 4 4 5 \n",
      "5 4 3 4 5 \n",
      "5 4 4 4 5 \n",
      "5 5 5 5 5 \n"
     ]
    }
   ],
   "source": [
    "n = int(input(\"Enter a number:\"))\n",
    "for a in range(n):\n",
    "    for b in range(n):\n",
    "        print(max(a+1, b+1, n-a, n-b), end = \" \")\n",
    "    print()"
   ]
  },
  {
   "cell_type": "markdown",
   "id": "6b02fa4f",
   "metadata": {},
   "source": [
    "```\n",
    "* \n",
    "* * \n",
    "* * * \n",
    "* * * * \n",
    "* * * * * \n",
    "```"
   ]
  },
  {
   "cell_type": "code",
   "execution_count": 242,
   "id": "5e8c0d04",
   "metadata": {},
   "outputs": [
    {
     "name": "stdout",
     "output_type": "stream",
     "text": [
      "*\n",
      "**\n",
      "***\n",
      "****\n",
      "*****\n"
     ]
    }
   ],
   "source": [
    "n =5\n",
    "for i in range(1,n+1):\n",
    "    print(\"*\"*i,end = \"\\n\")"
   ]
  },
  {
   "cell_type": "markdown",
   "id": "9af711b9",
   "metadata": {},
   "source": [
    "```\n",
    "****\n",
    "***\n",
    "**\n",
    "*\n",
    "```"
   ]
  },
  {
   "cell_type": "code",
   "execution_count": 243,
   "id": "2589bad0",
   "metadata": {},
   "outputs": [
    {
     "name": "stdout",
     "output_type": "stream",
     "text": [
      "****\n",
      "***\n",
      "**\n",
      "*\n"
     ]
    }
   ],
   "source": [
    "n = 4\n",
    "for i in range(n,0,-1):\n",
    "    print(\"*\"*i,end = \"\\n\")"
   ]
  },
  {
   "cell_type": "markdown",
   "id": "0a7e5355",
   "metadata": {},
   "source": [
    "```\n",
    "#####\n",
    "#####\n",
    "#####\n",
    "#####\n",
    "#####\n",
    "```"
   ]
  },
  {
   "cell_type": "code",
   "execution_count": 244,
   "id": "a7225596",
   "metadata": {},
   "outputs": [
    {
     "name": "stdout",
     "output_type": "stream",
     "text": [
      "#####\n",
      "#####\n",
      "#####\n",
      "#####\n",
      "#####\n"
     ]
    }
   ],
   "source": [
    "n= 5\n",
    "for i in range(5):\n",
    "    print(\"#\"*n)"
   ]
  },
  {
   "cell_type": "markdown",
   "id": "f6e936b3",
   "metadata": {},
   "source": [
    "### Q11. Write a program that computes the value of a+aa+aaa+aaaa with a given digit as the value of a. Suppose the following input is supplied to the program: 9, Then, the output should be: 9 + 99 + 999 + 9999 =  11106."
   ]
  },
  {
   "cell_type": "code",
   "execution_count": 1,
   "id": "f2a16ac3",
   "metadata": {},
   "outputs": [
    {
     "name": "stdout",
     "output_type": "stream",
     "text": [
      "Enter how many digits : 4\n",
      "Enter the Desired number : 9\n",
      "9 + 99 + 999 + 9999  =  11106\n"
     ]
    }
   ],
   "source": [
    "b = int(input(\"Enter how many digits : \"))\n",
    "a = int(input(\"Enter the Desired number : \"))\n",
    "\n",
    "sum = 0\n",
    "for i in range(1,b+1):\n",
    "    n1 = int(\"%s\"% (a))\n",
    "    n2 = int(\"%s%s\"% (a,a))\n",
    "    n3= int(\"%s%s%s\"% (a,a,a))\n",
    "    n4 = int(\"%s%s%s%s\"% (a,a,a,a))\n",
    "    sum = n1 + n2 + n3 + n4\n",
    "print(n1,\"+\",n2,\"+\",n3,\"+\",n4,\" = \",sum)"
   ]
  },
  {
   "cell_type": "markdown",
   "id": "9910abd0",
   "metadata": {},
   "source": [
    "### Q12. Find the length of a string using loops (not len())."
   ]
  },
  {
   "cell_type": "code",
   "execution_count": 80,
   "id": "17900fe3",
   "metadata": {},
   "outputs": [
    {
     "name": "stdout",
     "output_type": "stream",
     "text": [
      "Enter the String :Ravi Kiran\n",
      "Length of the string (Ravi Kiran): 10\n"
     ]
    }
   ],
   "source": [
    "a = input(\"Enter the String :\")\n",
    "c=0\n",
    "for i in a:\n",
    "    c+=1\n",
    "print(\"Length of the string ({0}):\".format(a),c)"
   ]
  },
  {
   "cell_type": "markdown",
   "id": "ef967577",
   "metadata": {},
   "source": [
    "### Q13. Write a program that accepts a sentence (string) and calculate the number of letters and digits. Example: ‘this is a test sentence number 389’ ==> letters = 25 and digits = 3."
   ]
  },
  {
   "cell_type": "code",
   "execution_count": 88,
   "id": "106474f1",
   "metadata": {},
   "outputs": [
    {
     "name": "stdout",
     "output_type": "stream",
     "text": [
      "Enter the String :this is a test sentence number 389\n",
      "Letters in string :  25\n",
      "Digits  in string :  3\n"
     ]
    }
   ],
   "source": [
    "string = input(\"Enter the String :\")\n",
    "CL = 0\n",
    "CN = 0\n",
    "for i in string:\n",
    "    if i.isdigit():\n",
    "        CN+=1\n",
    "    elif i.isalpha():\n",
    "        CL+=1\n",
    "print(\"Letters in string : \",CL)\n",
    "print(\"Digits  in string : \",CN)"
   ]
  },
  {
   "cell_type": "markdown",
   "id": "6bb92a63",
   "metadata": {},
   "source": [
    "### 14.  Write a program that accepts a string and outputs the string with all capital letters. \n",
    "   <b>Example: ‘hello’ ==> ‘HELLO’. (using loop) "
   ]
  },
  {
   "cell_type": "code",
   "execution_count": 96,
   "id": "6bf3d675",
   "metadata": {},
   "outputs": [
    {
     "name": "stdout",
     "output_type": "stream",
     "text": [
      "Enter a String : hello--world\n",
      "HELLO--WORLD\n"
     ]
    }
   ],
   "source": [
    "Str = input(\"Enter a String : \")\n",
    "n = str()\n",
    "for i in Str:\n",
    "    n += i.upper()\n",
    "print(n)"
   ]
  },
  {
   "cell_type": "markdown",
   "id": "815c8c51",
   "metadata": {},
   "source": [
    "### Q15. Write a program that accepts a sentence and calculate the number of upper case letters and lower case letters."
   ]
  },
  {
   "cell_type": "code",
   "execution_count": 100,
   "id": "d2f4ffd0",
   "metadata": {},
   "outputs": [
    {
     "name": "stdout",
     "output_type": "stream",
     "text": [
      "Enter a sentence : Ravi KIran\n",
      "Upper-case Count:  3 \n",
      "Lower-case Count:  6\n"
     ]
    }
   ],
   "source": [
    "Sen = input(\"Enter a sentence : \")\n",
    "UC = 0\n",
    "LC = 0 \n",
    "for x in Sen:\n",
    "    if x.isupper():\n",
    "        UC+=1\n",
    "    elif x.islower():\n",
    "        LC+=1\n",
    "print(\"Upper-case Count: \",UC,\"\\nLower-case Count: \",LC)"
   ]
  },
  {
   "cell_type": "markdown",
   "id": "c7525e48",
   "metadata": {},
   "source": [
    "### Q16. Write  a program that counts the occurrence of a character in a string. Example: ‘This is a test string.’ count of i = 3."
   ]
  },
  {
   "cell_type": "code",
   "execution_count": 109,
   "id": "62ef941c",
   "metadata": {},
   "outputs": [
    {
     "name": "stdout",
     "output_type": "stream",
     "text": [
      "Enter a String : This is a test string\n",
      "Enter a character to count occurrence : i\n",
      "Occurrence of character (i): 3\n"
     ]
    }
   ],
   "source": [
    "sen = input(\"Enter a String : \")\n",
    "c = input(\"Enter a character to count occurrence : \")\n",
    "a=0\n",
    "if c in sen:\n",
    "    a = sen.count(c)\n",
    "print(\"Occurrence of character ({0}):\".format(c),a)\n"
   ]
  },
  {
   "cell_type": "markdown",
   "id": "96129436",
   "metadata": {},
   "source": [
    "### Q17. Write a program to find if a given string is a palindrome or not.\n"
   ]
  },
  {
   "cell_type": "code",
   "execution_count": 245,
   "id": "a75e3693",
   "metadata": {},
   "outputs": [
    {
     "name": "stdout",
     "output_type": "stream",
     "text": [
      "Enter a String : Hello\n",
      "String is not a palindrome...\n"
     ]
    }
   ],
   "source": [
    "string = input(\"Enter a String : \")\n",
    "if string == string[::-1]:\n",
    "    print(\"String is palindrome...\")\n",
    "else:\n",
    "    print(\"String is not a palindrome...\")"
   ]
  },
  {
   "cell_type": "code",
   "execution_count": 246,
   "id": "3ee9e521",
   "metadata": {},
   "outputs": [
    {
     "name": "stdout",
     "output_type": "stream",
     "text": [
      "Enter a String : abccba\n",
      "String is palindrome...\n"
     ]
    }
   ],
   "source": [
    "string = input(\"Enter a String : \")\n",
    "if string == string[::-1]:\n",
    "    print(\"String is palindrome...\")\n",
    "else:\n",
    "    print(\"String is not a palindrome...\")"
   ]
  },
  {
   "cell_type": "markdown",
   "id": "b0cb553d",
   "metadata": {},
   "source": [
    "### Q18. Write a program which accepts two strings s1 and s2 and checks if s2 is a substring of s1.\n"
   ]
  },
  {
   "cell_type": "code",
   "execution_count": 117,
   "id": "8165bb51",
   "metadata": {},
   "outputs": [
    {
     "name": "stdout",
     "output_type": "stream",
     "text": [
      "Enter String1 : Welcome to Python\n",
      "Enter String2 : Python\n",
      "s2 is substring of s1...\n"
     ]
    }
   ],
   "source": [
    "s1 = input(\"Enter String1 : \")\n",
    "s2 = input(\"Enter String2 : \")\n",
    "if s2 in s1:\n",
    "    print(\"s2 is substring of s1...\")\n",
    "else:\n",
    "    print(\"s2 is not a substring of s1...\")"
   ]
  },
  {
   "cell_type": "code",
   "execution_count": 118,
   "id": "9dffdce6",
   "metadata": {},
   "outputs": [
    {
     "name": "stdout",
     "output_type": "stream",
     "text": [
      "Enter String1 : Welcome to Python\n",
      "Enter String2 : Django\n",
      "s2 is not a substring of s1...\n"
     ]
    }
   ],
   "source": [
    "s1 = input(\"Enter String1 : \")\n",
    "s2 = input(\"Enter String2 : \")\n",
    "if s2 in s1:\n",
    "    print(\"s2 is substring of s1...\")\n",
    "else:\n",
    "    print(\"s2 is not a substring of s1...\")"
   ]
  },
  {
   "cell_type": "markdown",
   "id": "ac204151",
   "metadata": {},
   "source": [
    "### Q19. Make a password validator with the following checks. A website requires the users to input username and password to register. Write a program to check the validity of password input by users.\n",
    "\n",
    "<b>Following are the criteria for checking the password:\n",
    "<b>1. At least  1 letter between [a-z]     \n",
    "<b>2. At least 1 number between [0-9]     \n",
    "<b>3. At least 1 letter between [@$#%&]"
   ]
  },
  {
   "cell_type": "code",
   "execution_count": 248,
   "id": "9bfa1eb5",
   "metadata": {},
   "outputs": [
    {
     "name": "stdout",
     "output_type": "stream",
     "text": [
      "Enter the password : abcdef456\n",
      "\n",
      "Password should have atleast one uppercase letter.\n",
      "Password should have atleast one special character.\n",
      "Invalid... please try again\n"
     ]
    }
   ],
   "source": [
    "\n",
    "def check_(s):\n",
    "    val = True\n",
    "    \n",
    "    if (len(s)<8 or (len(s) >= 8 and len(s)<20)):\n",
    "        if (len(s)<8):\n",
    "            print(\"length should be at least 8\")\n",
    "            val = False\n",
    "        if not any(char.isdigit() for char in s):\n",
    "            print(\"Password should have atleast one numeral.\")\n",
    "            val = False\n",
    "        if not any(char.isupper() for char in s):\n",
    "            print(\"Password should have atleast one uppercase letter.\")\n",
    "            val = False\n",
    "        if not any(char.islower() for char in s):\n",
    "            print(\"Password should have atleast one lowercase letter.\")\n",
    "            val = False\n",
    "        if not any(char in spl for char in s):\n",
    "            print(\"Password should have atleast one special character.\")\n",
    "            val = False\n",
    "        if val:\n",
    "            return val\n",
    "\n",
    "spl = ['@', '$','#','%','&']\n",
    "\n",
    "def main():\n",
    "    s = input(\"Enter the password : \")\n",
    "    print()\n",
    "    if (check_(s)):\n",
    "        print(\"Valid..\")\n",
    "    else:\n",
    "        print(\"Invalid... please try again\")\n",
    "\n",
    "main()\n",
    "    \n",
    "    \n",
    "    "
   ]
  },
  {
   "cell_type": "code",
   "execution_count": 247,
   "id": "223de74c",
   "metadata": {},
   "outputs": [
    {
     "name": "stdout",
     "output_type": "stream",
     "text": [
      "Enter the password : Def@#1234\n",
      "\n",
      "Valid...\n"
     ]
    }
   ],
   "source": [
    "def check_(s):\n",
    "    val = True\n",
    "    \n",
    "    if (len(s)<8 or (len(s) >= 8 and len(s)<20)):\n",
    "        if (len(s)<8):\n",
    "            print(\"length should be at least 8\")\n",
    "            val = False\n",
    "        if not any(char.isdigit() for char in s):\n",
    "            print(\"Password should have atleast one numeral.\")\n",
    "            val = False\n",
    "        if not any(char.isupper() for char in s):\n",
    "            print(\"Password should have atleast one uppercase letter.\")\n",
    "            val = False\n",
    "        if not any(char.islower() for char in s):\n",
    "            print(\"Password should have atleast one lowercase letter.\")\n",
    "            val = False\n",
    "        if not any(char in spl for char in s):\n",
    "            print(\"Password should have atleast one special character.\")\n",
    "            val = False\n",
    "        if val:\n",
    "            return val\n",
    "\n",
    "spl = ['@', '$','#','%','&']\n",
    "\n",
    "def main():\n",
    "    s = input(\"Enter the password : \")\n",
    "    print()\n",
    "    if (check_(s)):\n",
    "        print(\"Valid...\")\n",
    "    else:\n",
    "        print(\"Invalid... please try again\")\n",
    "\n",
    "main()"
   ]
  },
  {
   "cell_type": "markdown",
   "id": "e57251ad",
   "metadata": {},
   "source": [
    "### Q20. s = \"Hello how are you all\". For this given string write a code such that it prints the vowels present in the string s if any. ex: \"i\", \"a\" etc.\n"
   ]
  },
  {
   "cell_type": "code",
   "execution_count": 161,
   "id": "e6d8a923",
   "metadata": {},
   "outputs": [
    {
     "name": "stdout",
     "output_type": "stream",
     "text": [
      "Vowels are :  a e o u  \n"
     ]
    }
   ],
   "source": [
    "s = \"Hello how are you all\"\n",
    "Vol = \"aeiou AEIOU\"\n",
    "a = []\n",
    "for i in Vol:\n",
    "    if i in s and i not in a:\n",
    "        a.append(i)\n",
    "print(\"Vowels are : \", *a)"
   ]
  }
 ],
 "metadata": {
  "kernelspec": {
   "display_name": "Python 3",
   "language": "python",
   "name": "python3"
  },
  "language_info": {
   "codemirror_mode": {
    "name": "ipython",
    "version": 3
   },
   "file_extension": ".py",
   "mimetype": "text/x-python",
   "name": "python",
   "nbconvert_exporter": "python",
   "pygments_lexer": "ipython3",
   "version": "3.8.6"
  }
 },
 "nbformat": 4,
 "nbformat_minor": 5
}
